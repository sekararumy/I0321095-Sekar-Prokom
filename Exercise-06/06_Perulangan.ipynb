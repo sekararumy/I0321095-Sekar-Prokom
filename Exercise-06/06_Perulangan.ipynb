{
 "cells": [
  {
   "cell_type": "markdown",
   "metadata": {},
   "source": [
    "***\n",
    "<h1 align=\"center\">Exercise 06</h1>\n",
    " \n",
    "***\n",
    "## While Loop\n",
    "## Exercise 6.1\n",
    "isilah bagian rumpang berikut. xx diganti tanggal lahir dan yy diganti menjadi bulan lahir. tandanya menyesuaikan yang lebih besar."
   ]
  },
  {
   "cell_type": "code",
   "execution_count": 5,
   "metadata": {},
   "outputs": [
    {
     "name": "stdout",
     "output_type": "stream",
     "text": [
      "selalu bermanfaat untuk orang lain\n",
      "selalu bermanfaat untuk orang lain\n",
      "selalu bermanfaat untuk orang lain\n",
      "selalu bermanfaat untuk orang lain\n",
      "selalu bermanfaat untuk orang lain\n",
      "selalu bermanfaat untuk orang lain\n",
      "selalu bermanfaat untuk orang lain\n",
      "selalu bermanfaat untuk orang lain\n",
      "selalu bermanfaat untuk orang lain\n",
      "selalu bermanfaat untuk orang lain\n",
      "selalu bermanfaat untuk orang lain\n",
      "selalu bermanfaat untuk orang lain\n",
      "selalu bermanfaat untuk orang lain\n",
      "selalu bermanfaat untuk orang lain\n",
      "selalu bermanfaat untuk orang lain\n",
      "selalu bermanfaat untuk orang lain\n",
      "selalu bermanfaat untuk orang lain\n",
      "selalu bermanfaat untuk orang lain\n",
      "selalu bermanfaat untuk orang lain\n",
      "selalu bermanfaat untuk orang lain\n",
      "selalu bermanfaat untuk orang lain\n",
      "selalu bermanfaat untuk orang lain\n"
     ]
    }
   ],
   "source": [
    "#menentukan banyak pengulangan\n",
    "n = 27\n",
    "\n",
    "#melakukan pengulangan\n",
    "i = 6\n",
    "\n",
    "while i <= n :\n",
    "    print (\"selalu bermanfaat untuk orang lain\")\n",
    "    #diisi motto kalian\n",
    "    i = i + 1 # sesuaikan dengan atas agar fungsi perulangan dapat berhenti\n"
   ]
  },
  {
   "cell_type": "markdown",
   "metadata": {},
   "source": [
    "## Exercise 6.2\n",
    "\n",
    "Buatlah code seperti yang dicontohkan pada modul agar user dapat menginputkan sendiri jumlah n yang diinginkan"
   ]
  },
  {
   "cell_type": "code",
   "execution_count": 6,
   "metadata": {},
   "outputs": [
    {
     "name": "stdout",
     "output_type": "stream",
     "text": [
      "6\n",
      "7\n",
      "8\n",
      "9\n",
      "10\n"
     ]
    }
   ],
   "source": [
    "#Kerjakan disini\n",
    "n = int(input(\"Input nilai n: \"))\n",
    "i = 6\n",
    "while i <= n:\n",
    "    print(i)\n",
    "    i = i+1"
   ]
  },
  {
   "cell_type": "markdown",
   "metadata": {},
   "source": [
    "## Excercise 6.3\n",
    "\n",
    "isilah xx, yy, dan tanda rumpang seperti pada exercise 6.1\n"
   ]
  },
  {
   "cell_type": "code",
   "execution_count": 1,
   "metadata": {},
   "outputs": [
    {
     "name": "stdout",
     "output_type": "stream",
     "text": [
      "Baris ke-6 : How To Train Your Dragon\n",
      "Baris ke-7 : How To Train Your Dragon\n",
      "Baris ke-8 : How To Train Your Dragon\n",
      "Baris ke-9 : How To Train Your Dragon\n",
      "Baris ke-10 : How To Train Your Dragon\n",
      "Baris ke-11 : How To Train Your Dragon\n",
      "Baris ke-12 : How To Train Your Dragon\n",
      "Baris ke-13 : How To Train Your Dragon\n",
      "Baris ke-14 : How To Train Your Dragon\n",
      "Baris ke-15 : How To Train Your Dragon\n",
      "Baris ke-16 : How To Train Your Dragon\n",
      "Baris ke-17 : How To Train Your Dragon\n",
      "Baris ke-18 : How To Train Your Dragon\n",
      "Baris ke-19 : How To Train Your Dragon\n",
      "Baris ke-20 : How To Train Your Dragon\n",
      "Baris ke-21 : How To Train Your Dragon\n",
      "Baris ke-22 : How To Train Your Dragon\n",
      "Baris ke-23 : How To Train Your Dragon\n",
      "Baris ke-24 : How To Train Your Dragon\n",
      "Baris ke-25 : How To Train Your Dragon\n",
      "Baris ke-26 : How To Train Your Dragon\n",
      "Baris ke-27 : How To Train Your Dragon\n"
     ]
    }
   ],
   "source": [
    "#melakukan pengulangan\n",
    "i = 6\n",
    "\n",
    "while i <= 27 :\n",
    "    print (\"Baris ke-%d : How To Train Your Dragon\"%i)\n",
    "    #isi titik-titik dengan judul film favorit kalian\n",
    "    i = i + 1 "
   ]
  },
  {
   "cell_type": "markdown",
   "metadata": {},
   "source": [
    "## FOR LOOP\n",
    "\n",
    "## Exercise 6.4\n",
    "\n",
    "munculkan 3 dari 7 elemen yang berada di dalam list1 dan list2\n"
   ]
  },
  {
   "cell_type": "code",
   "execution_count": 4,
   "metadata": {},
   "outputs": [
    {
     "name": "stdout",
     "output_type": "stream",
     "text": [
      "1 Ayam Bakar - Cilegon\n",
      "2 Sushi - Yogyakarta\n",
      "3 Bakso - Bandung\n"
     ]
    }
   ],
   "source": [
    "list1 = [\"Ayam Bakar\",\"Sushi\",\"Bakso\",\"Pecel Lele\",\"Rendang\",\"Sop Daging\",\"Soto Bandung\"] #masukkan 7 list makanan favorit kalian\n",
    "list2 = [\"Cilegon\",\"Yogyakarta\",\"Bandung\",\"Tangerang\",\"Jakarta\",\"Solo\",\"Serang\"] #masukkan 7 list kota favorit kalian\n",
    "\n",
    "for i in range(0,3) :\n",
    "    print(i+1,list1[i],\"-\",list2[i])"
   ]
  },
  {
   "cell_type": "markdown",
   "metadata": {},
   "source": [
    "## Perulangan Bersarang\n",
    "\n",
    "## Exercise 6.5"
   ]
  },
  {
   "cell_type": "code",
   "execution_count": 11,
   "metadata": {},
   "outputs": [
    {
     "name": "stdout",
     "output_type": "stream",
     "text": [
      "36 \n",
      "42 49 \n",
      "48 56 64 \n",
      "54 63 72 81 \n",
      "60 70 80 90 100 \n",
      "66 77 88 99 110 121 \n",
      "72 84 96 108 120 132 144 \n",
      "78 91 104 117 130 143 156 169 \n",
      "84 98 112 126 140 154 168 182 196 \n",
      "90 105 120 135 150 165 180 195 210 225 \n",
      "96 112 128 144 160 176 192 208 224 240 256 \n",
      "102 119 136 153 170 187 204 221 238 255 272 289 \n",
      "108 126 144 162 180 198 216 234 252 270 288 306 324 \n",
      "114 133 152 171 190 209 228 247 266 285 304 323 342 361 \n",
      "120 140 160 180 200 220 240 260 280 300 320 340 360 380 400 \n",
      "126 147 168 189 210 231 252 273 294 315 336 357 378 399 420 441 \n",
      "132 154 176 198 220 242 264 286 308 330 352 374 396 418 440 462 484 \n",
      "138 161 184 207 230 253 276 299 322 345 368 391 414 437 460 483 506 529 \n",
      "144 168 192 216 240 264 288 312 336 360 384 408 432 456 480 504 528 552 576 \n",
      "150 175 200 225 250 275 300 325 350 375 400 425 450 475 500 525 550 575 600 625 \n",
      "156 182 208 234 260 286 312 338 364 390 416 442 468 494 520 546 572 598 624 650 676 \n",
      "162 189 216 243 270 297 324 351 378 405 432 459 486 513 540 567 594 621 648 675 702 729 \n"
     ]
    }
   ],
   "source": [
    "i = 6\n",
    "while i <= 27:\n",
    "    j = 6\n",
    "    while j <= i:\n",
    "        print(\"%d \" % (i*j), end = '')\n",
    "        j = j + 1\n",
    "    print()\n",
    "    i+=1"
   ]
  },
  {
   "cell_type": "markdown",
   "metadata": {},
   "source": [
    "## Pernyataan Loncat\n",
    "\n",
    "## Exercise 6.\n",
    "\n",
    "Buatlah fungsi berikut agar muncul angka hingga berhenti sesuai dengan nilai qq\n",
    "qq = angka favorit kalian\n",
    "pp>qq"
   ]
  },
  {
   "cell_type": "code",
   "execution_count": 45,
   "metadata": {},
   "outputs": [
    {
     "name": "stdout",
     "output_type": "stream",
     "text": [
      "01234567"
     ]
    }
   ],
   "source": [
    "for i in range(10):\n",
    "    print(i,end='')\n",
    "    if i == 7:\n",
    "        break"
   ]
  },
  {
   "cell_type": "markdown",
   "metadata": {},
   "source": [
    "***\n",
    "<h1 align=\"center\">WELL DONE</h1>\n",
    " \n",
    "***"
   ]
  }
 ],
 "metadata": {
  "interpreter": {
   "hash": "cd08f94adcf3cbae37fe85286256f4c2a10455ca9094fd053e9f3d3f09647223"
  },
  "kernelspec": {
   "display_name": "Python 3.9.7 64-bit",
   "language": "python",
   "name": "python3"
  },
  "language_info": {
   "codemirror_mode": {
    "name": "ipython",
    "version": 3
   },
   "file_extension": ".py",
   "mimetype": "text/x-python",
   "name": "python",
   "nbconvert_exporter": "python",
   "pygments_lexer": "ipython3",
   "version": "3.9.7"
  },
  "orig_nbformat": 4
 },
 "nbformat": 4,
 "nbformat_minor": 2
}
