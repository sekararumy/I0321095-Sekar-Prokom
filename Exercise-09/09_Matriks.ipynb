{
 "cells": [
  {
   "cell_type": "markdown",
   "metadata": {},
   "source": [
    "# Exercise 09  \n",
    "### OPERASI MATRIKS  \n",
    "Silahkan lengkapi kode yang rumpang sesuai perintah yang diberikan.\n"
   ]
  },
  {
   "cell_type": "markdown",
   "metadata": {},
   "source": [
    "![](./image/1.png)"
   ]
  },
  {
   "cell_type": "code",
   "execution_count": 1,
   "metadata": {},
   "outputs": [
    {
     "name": "stdout",
     "output_type": "stream",
     "text": [
      "[[99, 99], [99, 99]]\n",
      "[[91, 91], [91, 91]]\n"
     ]
    }
   ],
   "source": [
    "A = [[99, 99],\n",
    "     [99, 99]]\n",
    "\n",
    "B = [[91, 91],\n",
    "     [91, 91]]\n",
    "\n",
    "print(A)\n",
    "print(B)"
   ]
  },
  {
   "cell_type": "markdown",
   "metadata": {},
   "source": [
    "Buatlah matriks menggunakan metode perulangan for dengan ketentuan sebagai berikut:\n",
    "* Matriks A berisi angka sebesar 4 setelah nim kalian. (ex: nim = 12, nilai matriks [16, 16],[16,16])\n",
    "* Matriks B berisi angka sebesar 4 sebelum nim kalian. (ex: nim = 12, nilai matriks [8, 8],[8,8])\n"
   ]
  },
  {
   "cell_type": "code",
   "execution_count": 2,
   "metadata": {},
   "outputs": [
    {
     "name": "stdout",
     "output_type": "stream",
     "text": [
      "[[99, 99], [99, 99]]\n",
      "[[91, 91], [91, 91]]\n"
     ]
    }
   ],
   "source": [
    "def create(matriks, nim):\n",
    "    for i in range(2):\n",
    "        for k in range(2):\n",
    "            matriks[i][k] = nim\n",
    "create(A, 99)\n",
    "create(B, 91)\n",
    "\n",
    "print(A)\n",
    "print(B)"
   ]
  },
  {
   "cell_type": "markdown",
   "metadata": {},
   "source": [
    "## KERJAKAN SOAL BERIKUT\n",
    "1. Buatlah program penjumlahan matriks A dan B.\n",
    "2. Buatlah program pengurangan matriks A dan B.\n",
    "3. Buatlah program perkalian matriks A dan B."
   ]
  },
  {
   "cell_type": "code",
   "execution_count": 3,
   "metadata": {},
   "outputs": [
    {
     "name": "stdout",
     "output_type": "stream",
     "text": [
      "[ 190 190 ]\n",
      "[ 190 190 ]\n"
     ]
    }
   ],
   "source": [
    "#SOAL-1\n",
    "#YOUR CODE HERE\n",
    "A = [[99, 99],\n",
    "     [99, 99]]\n",
    "\n",
    "B = [[91, 91],\n",
    "     [91, 91]]\n",
    "\n",
    "for x in range(len(A)):\n",
    "    print(\"[\", end =\" \")\n",
    "    for y in range(len(B)):\n",
    "        mat = A[x][y] + B[x][y]\n",
    "        print(mat, end=\" \")\n",
    "    print(\"]\")"
   ]
  },
  {
   "cell_type": "code",
   "execution_count": 4,
   "metadata": {},
   "outputs": [
    {
     "name": "stdout",
     "output_type": "stream",
     "text": [
      "[ 8 8 ]\n",
      "[ 8 8 ]\n"
     ]
    }
   ],
   "source": [
    "#SOAL-2\n",
    "#YOUR CODE HERE\n",
    "A = [[99, 99],\n",
    "     [99, 99]]\n",
    "\n",
    "B = [[91, 91],\n",
    "     [91, 91]]\n",
    "\n",
    "for x in range(len(A)):\n",
    "    print(\"[\", end =\" \")\n",
    "    for y in range(len(B)):\n",
    "        mat = A[x][y] - B[x][y]\n",
    "        print(mat, end=\" \")\n",
    "    print(\"]\")"
   ]
  },
  {
   "cell_type": "code",
   "execution_count": 6,
   "metadata": {},
   "outputs": [
    {
     "name": "stdout",
     "output_type": "stream",
     "text": [
      "[ 380 380 ]\n",
      "[ 380 380 ]\n"
     ]
    }
   ],
   "source": [
    "#SOAL-3\n",
    "#YOUR CODE HERE\n",
    "A = [[99, 99],\n",
    "     [99, 99]]\n",
    "\n",
    "B = [[91, 91],\n",
    "     [91, 91]]\n",
    "    \n",
    "C = []\n",
    "\n",
    "for x in range(0, len(A)):\n",
    "    baris = []\n",
    "    for y in range(0, len(A[0])):\n",
    "        total=0\n",
    "        for z in range(0, len(A)):\n",
    "            total=total + (A[x][z] + B[z][y])\n",
    "        baris.append(total)\n",
    "    C.append(baris)\n",
    "for x in range (0, len(C)):\n",
    "    print(\"[\", end=\" \")\n",
    "    for y in range(0, len(C[0])):\n",
    "        print(C[x][y], end=\" \")\n",
    "    print(\"]\")"
   ]
  },
  {
   "cell_type": "markdown",
   "metadata": {},
   "source": [
    "### Cara Pengumpulan\n",
    "\n",
    "1. Buka *New Terminal*\n",
    "2. Pastikan *path* Terminal adalah folder repositori kalian (NIM-Nama-Prokom).\n",
    "3. Tambahkan file yang akan ditrack dengan `git add <nama file>`. Nama file bisa diubah . (titik)  `git add .`yang artinya semua file dalam folder akan ditrack.\n",
    "4. Lakukan commit perubahan dengan `git commit -m <deskripsi>`.\n",
    "5. Lakukan push dengan `git push -u origin <nama branch>`. Nama branch dapat diketahui dengan `git branch`.\n",
    "6. Pastikan Exercise-02 telah terupload dan dapat diakses di repositori dengan mengaksesnya di browser."
   ]
  }
 ],
 "metadata": {
  "interpreter": {
   "hash": "b01e3e0a1058a7bb1d1e5c5024519bd969bf4d3bb4353a3e2b767f31ca4d24dd"
  },
  "kernelspec": {
   "display_name": "Python 3.9.7 64-bit",
   "language": "python",
   "name": "python3"
  },
  "language_info": {
   "codemirror_mode": {
    "name": "ipython",
    "version": 3
   },
   "file_extension": ".py",
   "mimetype": "text/x-python",
   "name": "python",
   "nbconvert_exporter": "python",
   "pygments_lexer": "ipython3",
   "version": "3.9.7"
  },
  "orig_nbformat": 4
 },
 "nbformat": 4,
 "nbformat_minor": 2
}
